{
  "nbformat": 4,
  "nbformat_minor": 0,
  "metadata": {
    "colab": {
      "provenance": [],
      "authorship_tag": "ABX9TyP2H9nMz8JrwvgoU4b43lLY",
      "include_colab_link": true
    },
    "kernelspec": {
      "name": "python3",
      "display_name": "Python 3"
    },
    "language_info": {
      "name": "python"
    }
  },
  "cells": [
    {
      "cell_type": "markdown",
      "metadata": {
        "id": "view-in-github",
        "colab_type": "text"
      },
      "source": [
        "<a href=\"https://colab.research.google.com/github/MayukhaI12/Mid-term-project/blob/main/Mid_term_project.ipynb\" target=\"_parent\"><img src=\"https://colab.research.google.com/assets/colab-badge.svg\" alt=\"Open In Colab\"/></a>"
      ]
    },
    {
      "cell_type": "markdown",
      "source": [
        "\n",
        "###Mid-term project: Luhn's Algorithm\n",
        "#### Validating credit card numbers    \n",
        "###Date: 12/17/2022                  \n"
      ],
      "metadata": {
        "id": "Pjl32mp4Lpl7"
      }
    },
    {
      "cell_type": "code",
      "execution_count": null,
      "metadata": {
        "id": "NrHF66ZmLl-i"
      },
      "outputs": [],
      "source": [
        "\n",
        "#Defining the 'is_credit' function\n",
        "\n",
        "def is_credit(str):\n",
        "  creditNo = list(str)\n",
        "  check_No = creditNo\n",
        "  sum = 0 \n",
        "  i = len(creditNo) -1\n",
        "  j=0\n",
        "  while True:\n",
        "      if (j%2 == 0):\n",
        "        check_No[i] = int(creditNo[i])\n",
        "      else:\n",
        "        if (int(creditNo[i])*2 >= 10):\n",
        "          check_No[i] = int(((int(creditNo[i])*2)/10)) + ((int(creditNo[i])*2)%10)\n",
        "        else:\n",
        "          check_No[i] = int(creditNo[i])*2\n",
        "      sum = sum + check_No[i] \n",
        "      i = i -1\n",
        "      j = j+1\n",
        "      if (i == -1):\n",
        "        break\n",
        "  if(sum%10 == 0):\n",
        "    return True\n",
        "  else:\n",
        "    return False\n",
        "\n",
        "########################################\n",
        "#Defining the 'is_visa' function\n",
        "\n",
        "def is_visa(str):\n",
        "  creditNum = list(str)\n",
        "  if ((len(creditNum) == 13 or len(creditNum) == 16) and (creditNum[0] == \"4\")):\n",
        "       return True\n",
        "  else: \n",
        "    return False\n",
        "\n",
        "#############################################\n",
        "#Defining the 'is_mastercard' function\n",
        "\n",
        "def is_mastercard(str):\n",
        "  CreditNum = list(str)\n",
        "  if ((len(CreditNum) == 16) and (CreditNum[0] == \"5\") and (CreditNum[1] == \"1\" or CreditNum[1] == \"2\" or CreditNum[1] == \"3\" or CreditNum[1] == \"4\" or CreditNum[1] == \"5\")):\n",
        "      return True\n",
        "  else:\n",
        "    return False\n",
        "\n",
        "#################################################\n",
        "#Putting together all the code\n",
        "  #Please enter the credit card number.\n",
        "  #Then enter the credit card number type. \n",
        "\n",
        "creditNumber = input(\"Enter Credit Card Number: \")\n",
        "if (len(creditNumber) > 16):\n",
        "  print(\"Error: The length of the number entered is greater than 16 digits.\")\n",
        "else:\n",
        "  if (creditNumber.isnumeric() == False):\n",
        "    print(\"Error: The number contains alphabets.\")\n",
        "  else:\n",
        "    Type = input(\"Enter Credit Card Type: \")\n",
        "    Type = Type.lower()\n",
        "  \n",
        "    if(Type != \"visa\" and Type != \"mastercard\"):\n",
        "     print(\"Error: Enter Valid Credit Card Type\")\n",
        "    else:\n",
        "      if(Type == 'visa'):\n",
        "        if(is_credit(creditNumber) and is_visa(creditNumber)):\n",
        "          print(\"Valid Visa\")\n",
        "        else:\n",
        "          print(\"Not Valid Visa\")\n",
        "      else:\n",
        "          if(is_credit(creditNumber) and is_mastercard(creditNumber)):\n",
        "            print(\"Valid MasterCard\")\n",
        "          else:\n",
        "            print(\"Not Valid MasterCard\")"
      ]
    }
  ]
}